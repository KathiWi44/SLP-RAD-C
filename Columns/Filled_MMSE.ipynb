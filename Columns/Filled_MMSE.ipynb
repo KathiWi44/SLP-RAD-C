{
 "cells": [
  {
   "cell_type": "code",
   "execution_count": 1,
   "id": "4313b931-3248-400a-812a-77c5fb5d0085",
   "metadata": {},
   "outputs": [],
   "source": [
    "import pandas as pd\n",
    "from sklearn.ensemble import RandomForestRegressor\n",
    "from sklearn.model_selection import train_test_split\n",
    "from sklearn.metrics import mean_squared_error"
   ]
  },
  {
   "cell_type": "code",
   "execution_count": 3,
   "id": "fccc0501-8ec8-4a78-9dd6-6de3a11c536d",
   "metadata": {},
   "outputs": [
    {
     "data": {
      "text/html": [
       "<div>\n",
       "<style scoped>\n",
       "    .dataframe tbody tr th:only-of-type {\n",
       "        vertical-align: middle;\n",
       "    }\n",
       "\n",
       "    .dataframe tbody tr th {\n",
       "        vertical-align: top;\n",
       "    }\n",
       "\n",
       "    .dataframe thead th {\n",
       "        text-align: right;\n",
       "    }\n",
       "</style>\n",
       "<table border=\"1\" class=\"dataframe\">\n",
       "  <thead>\n",
       "    <tr style=\"text-align: right;\">\n",
       "      <th></th>\n",
       "      <th>Age</th>\n",
       "      <th>Word Count CTD</th>\n",
       "      <th>Total Wait Time (s) CTD</th>\n",
       "      <th>Word Count PFT</th>\n",
       "      <th>Total Wait Time (s) PFT</th>\n",
       "      <th>Word Count SFT</th>\n",
       "      <th>Total Wait Time (s) SFT</th>\n",
       "      <th>Converted-MMSE</th>\n",
       "    </tr>\n",
       "  </thead>\n",
       "  <tbody>\n",
       "    <tr>\n",
       "      <th>count</th>\n",
       "      <td>157.00000</td>\n",
       "      <td>157.000000</td>\n",
       "      <td>157.000000</td>\n",
       "      <td>157.000000</td>\n",
       "      <td>157.000000</td>\n",
       "      <td>157.000000</td>\n",
       "      <td>157.000000</td>\n",
       "      <td>69.000000</td>\n",
       "    </tr>\n",
       "    <tr>\n",
       "      <th>mean</th>\n",
       "      <td>65.77707</td>\n",
       "      <td>157.433121</td>\n",
       "      <td>7.917197</td>\n",
       "      <td>32.694268</td>\n",
       "      <td>26.509554</td>\n",
       "      <td>49.292994</td>\n",
       "      <td>18.254777</td>\n",
       "      <td>27.362319</td>\n",
       "    </tr>\n",
       "    <tr>\n",
       "      <th>std</th>\n",
       "      <td>12.29634</td>\n",
       "      <td>91.043120</td>\n",
       "      <td>8.103467</td>\n",
       "      <td>15.931610</td>\n",
       "      <td>10.884368</td>\n",
       "      <td>21.727998</td>\n",
       "      <td>9.684712</td>\n",
       "      <td>2.467262</td>\n",
       "    </tr>\n",
       "    <tr>\n",
       "      <th>min</th>\n",
       "      <td>23.00000</td>\n",
       "      <td>12.000000</td>\n",
       "      <td>0.000000</td>\n",
       "      <td>8.000000</td>\n",
       "      <td>4.000000</td>\n",
       "      <td>16.000000</td>\n",
       "      <td>1.000000</td>\n",
       "      <td>19.000000</td>\n",
       "    </tr>\n",
       "    <tr>\n",
       "      <th>25%</th>\n",
       "      <td>62.00000</td>\n",
       "      <td>90.000000</td>\n",
       "      <td>2.000000</td>\n",
       "      <td>21.000000</td>\n",
       "      <td>18.000000</td>\n",
       "      <td>33.000000</td>\n",
       "      <td>12.000000</td>\n",
       "      <td>27.000000</td>\n",
       "    </tr>\n",
       "    <tr>\n",
       "      <th>50%</th>\n",
       "      <td>66.00000</td>\n",
       "      <td>135.000000</td>\n",
       "      <td>5.000000</td>\n",
       "      <td>30.000000</td>\n",
       "      <td>26.000000</td>\n",
       "      <td>45.000000</td>\n",
       "      <td>17.000000</td>\n",
       "      <td>28.000000</td>\n",
       "    </tr>\n",
       "    <tr>\n",
       "      <th>75%</th>\n",
       "      <td>72.00000</td>\n",
       "      <td>200.000000</td>\n",
       "      <td>11.000000</td>\n",
       "      <td>41.000000</td>\n",
       "      <td>35.000000</td>\n",
       "      <td>61.000000</td>\n",
       "      <td>24.000000</td>\n",
       "      <td>29.000000</td>\n",
       "    </tr>\n",
       "    <tr>\n",
       "      <th>max</th>\n",
       "      <td>94.00000</td>\n",
       "      <td>461.000000</td>\n",
       "      <td>39.000000</td>\n",
       "      <td>89.000000</td>\n",
       "      <td>51.000000</td>\n",
       "      <td>120.000000</td>\n",
       "      <td>46.000000</td>\n",
       "      <td>30.000000</td>\n",
       "    </tr>\n",
       "  </tbody>\n",
       "</table>\n",
       "</div>"
      ],
      "text/plain": [
       "             Age  Word Count CTD  Total Wait Time (s) CTD  Word Count PFT  \\\n",
       "count  157.00000      157.000000               157.000000      157.000000   \n",
       "mean    65.77707      157.433121                 7.917197       32.694268   \n",
       "std     12.29634       91.043120                 8.103467       15.931610   \n",
       "min     23.00000       12.000000                 0.000000        8.000000   \n",
       "25%     62.00000       90.000000                 2.000000       21.000000   \n",
       "50%     66.00000      135.000000                 5.000000       30.000000   \n",
       "75%     72.00000      200.000000                11.000000       41.000000   \n",
       "max     94.00000      461.000000                39.000000       89.000000   \n",
       "\n",
       "       Total Wait Time (s) PFT  Word Count SFT  Total Wait Time (s) SFT  \\\n",
       "count               157.000000      157.000000               157.000000   \n",
       "mean                 26.509554       49.292994                18.254777   \n",
       "std                  10.884368       21.727998                 9.684712   \n",
       "min                   4.000000       16.000000                 1.000000   \n",
       "25%                  18.000000       33.000000                12.000000   \n",
       "50%                  26.000000       45.000000                17.000000   \n",
       "75%                  35.000000       61.000000                24.000000   \n",
       "max                  51.000000      120.000000                46.000000   \n",
       "\n",
       "       Converted-MMSE  \n",
       "count       69.000000  \n",
       "mean        27.362319  \n",
       "std          2.467262  \n",
       "min         19.000000  \n",
       "25%         27.000000  \n",
       "50%         28.000000  \n",
       "75%         29.000000  \n",
       "max         30.000000  "
      ]
     },
     "execution_count": 3,
     "metadata": {},
     "output_type": "execute_result"
    }
   ],
   "source": [
    "df = pd.read_csv('Columns_result.csv')\n",
    "df.describe()"
   ]
  },
  {
   "cell_type": "code",
   "execution_count": 4,
   "id": "8f53bab4-6a19-4f78-9b18-312d37fbc756",
   "metadata": {},
   "outputs": [
    {
     "data": {
      "text/plain": [
       "{'data_types': Record-ID                   object\n",
       " TrainOrDev                  object\n",
       " Class                       object\n",
       " Gender                      object\n",
       " Age                        float64\n",
       " Word Count CTD             float64\n",
       " Total Wait Time (s) CTD    float64\n",
       " Word Count PFT             float64\n",
       " Total Wait Time (s) PFT    float64\n",
       " Word Count SFT             float64\n",
       " Total Wait Time (s) SFT    float64\n",
       " Converted-MMSE             float64\n",
       " dtype: object}"
      ]
     },
     "execution_count": 4,
     "metadata": {},
     "output_type": "execute_result"
    }
   ],
   "source": [
    "# Überblick über die Datentypen verschaffen\n",
    "df_info = { \"data_types\": df.dtypes }\n",
    "df_info"
   ]
  },
  {
   "cell_type": "code",
   "execution_count": 5,
   "id": "57847a15-40dc-4fc8-b467-87953a730066",
   "metadata": {},
   "outputs": [
    {
     "data": {
      "text/plain": [
       "Converted-MMSE             1.000000\n",
       "Word Count CTD             0.194882\n",
       "Word Count SFT             0.004747\n",
       "Total Wait Time (s) PFT   -0.176075\n",
       "Word Count PFT            -0.231698\n",
       "Total Wait Time (s) SFT   -0.284651\n",
       "Age                       -0.335210\n",
       "Total Wait Time (s) CTD   -0.369492\n",
       "Name: Converted-MMSE, dtype: float64"
      ]
     },
     "execution_count": 5,
     "metadata": {},
     "output_type": "execute_result"
    }
   ],
   "source": [
    "# Numerische Spalten für die Korrelationsanalyse\n",
    "numeric_columns = df.select_dtypes(include = ['float64']).columns\n",
    "correlation_matrix = df[numeric_columns].corr()\n",
    "\n",
    "# Korrelation der numerischen Spalten mit \"Converted-MMSE\"\n",
    "mmse_correlation = correlation_matrix['Converted-MMSE'].sort_values(ascending = False)\n",
    "mmse_correlation"
   ]
  },
  {
   "cell_type": "code",
   "execution_count": 6,
   "id": "b1291550-c664-43cc-98c9-17a962354bd8",
   "metadata": {},
   "outputs": [
    {
     "name": "stderr",
     "output_type": "stream",
     "text": [
      "C:\\Users\\BenLa\\miniconda3\\Lib\\site-packages\\sklearn\\metrics\\_regression.py:492: FutureWarning: 'squared' is deprecated in version 1.4 and will be removed in 1.6. To calculate the root mean squared error, use the function'root_mean_squared_error'.\n",
      "  warnings.warn(\n"
     ]
    },
    {
     "data": {
      "text/plain": [
       "(np.float64(1.5768254727231457), array([28.47, 28.12, 28.06, 28.9 , 28.74]))"
      ]
     },
     "execution_count": 6,
     "metadata": {},
     "output_type": "execute_result"
    }
   ],
   "source": [
    "# Datenvorbereitung\n",
    "# Merkmale mit signifikanter Korrelation auswählen\n",
    "features = ['Word Count CTD', 'Age', 'Total Wait Time (s) CTD']\n",
    "\n",
    "# Daten ohne fehlende Werte (für Modelltraining)\n",
    "train_data = df.dropna(subset = ['Converted-MMSE'])\n",
    "X_train = train_data[features]\n",
    "y_train = train_data['Converted-MMSE']\n",
    "\n",
    "# Fehlende Werte für Vorhersage\n",
    "missing_data = df[df['Converted-MMSE'].isnull()]\n",
    "X_missing = missing_data[features]\n",
    "\n",
    "# Train-Test-Split (für Modellbewertung)\n",
    "X_train_split, X_test_split, y_train_split, y_test_split = train_test_split(X_train, y_train, test_size = .2, random_state = 42)\n",
    "\n",
    "# Modelltraining\n",
    "rf_model = RandomForestRegressor(random_state = 42, n_estimators = 100)\n",
    "rf_model.fit(X_train_split, y_train_split)\n",
    "\n",
    "# Modellbewertung\n",
    "y_pred = rf_model.predict(X_test_split)\n",
    "rmse = mean_squared_error(y_test_split, y_pred, squared = False)\n",
    "\n",
    "# Fehlende Werte vorhersagen\n",
    "missing_predictions = rf_model.predict(X_missing)\n",
    "\n",
    "# RMSE ausgeben und fehlende Werte imputieren\n",
    "# Zeigt die RMSE und die ersten 5 Vorhersagen\n",
    "rmse, missing_predictions[:5]"
   ]
  },
  {
   "cell_type": "code",
   "execution_count": 7,
   "id": "45f86477-95a9-4bc2-a088-68c3d287c92f",
   "metadata": {},
   "outputs": [],
   "source": [
    "# Sicherstellen, dass Indizes korrekt sind\n",
    "missing_indices = df[df['Converted-MMSE'].isnull()].index\n",
    "\n",
    "# Fehlende Werte durch gerundete Vorhersagen ersetzen\n",
    "df.loc[missing_indices, 'Converted-MMSE'] = missing_predictions.round().astype(int)"
   ]
  },
  {
   "cell_type": "code",
   "execution_count": 9,
   "id": "6de50247-3760-4277-a4fe-4cd4cea86b74",
   "metadata": {},
   "outputs": [],
   "source": [
    "# Gespeicherte Tabelle mit ausgefüllten Werten\n",
    "df.to_csv(\"Columns_filled_mmse.csv\", index = False)"
   ]
  }
 ],
 "metadata": {
  "kernelspec": {
   "display_name": "Python 3 (ipykernel)",
   "language": "python",
   "name": "python3"
  },
  "language_info": {
   "codemirror_mode": {
    "name": "ipython",
    "version": 3
   },
   "file_extension": ".py",
   "mimetype": "text/x-python",
   "name": "python",
   "nbconvert_exporter": "python",
   "pygments_lexer": "ipython3",
   "version": "3.12.7"
  }
 },
 "nbformat": 4,
 "nbformat_minor": 5
}
